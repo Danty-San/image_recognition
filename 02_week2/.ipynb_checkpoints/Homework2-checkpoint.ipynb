{
 "cells": [
  {
   "cell_type": "code",
   "execution_count": 101,
   "id": "8ff60e95-bfd8-4318-8648-410a1989ae95",
   "metadata": {},
   "outputs": [],
   "source": [
    "class Student:\n",
    "    def __init__(self, name, student_id, age, gender):\n",
    "        self.name = name\n",
    "        self.student_id = student_id\n",
    "        self.age = age\n",
    "        self.gender = gender\n",
    "        \n",
    "    def set_grade(self, grade):\n",
    "        self.grade = grade\n",
    "        \n",
    "    def get_grade(self):\n",
    "        print(self.grade)\n",
    "        \n",
    "    def display_student_info(self):\n",
    "        try:\n",
    "            print(\n",
    "            f\"\"\"\n",
    "                學生姓名 : {self.name} \n",
    "                學生學號 : {self.student_id} \n",
    "                學生年齡 : {self.age} \n",
    "                學生性別 : {self.gender} \n",
    "                學生成績 : {self.grade}\"\"\"\n",
    "            )\n",
    "        except AttributeError:\n",
    "            self.grade = \"無資料\"\n",
    "            print(\n",
    "            f\"\"\"\n",
    "                學生姓名 : {self.name} \n",
    "                學生學號 : {self.student_id} \n",
    "                學生年齡 : {self.age} \n",
    "                學生性別 : {self.gender} \n",
    "                學生成績 : {self.grade}\"\"\"\n",
    "            )"
   ]
  }
 ],
 "metadata": {
  "kernelspec": {
   "display_name": "Python 3 (ipykernel)",
   "language": "python",
   "name": "python3"
  },
  "language_info": {
   "codemirror_mode": {
    "name": "ipython",
    "version": 3
   },
   "file_extension": ".py",
   "mimetype": "text/x-python",
   "name": "python",
   "nbconvert_exporter": "python",
   "pygments_lexer": "ipython3",
   "version": "3.9.13"
  }
 },
 "nbformat": 4,
 "nbformat_minor": 5
}
